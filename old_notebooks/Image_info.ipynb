{
 "cells": [
  {
   "cell_type": "code",
   "execution_count": 2,
   "id": "50488ad2-fd94-49ca-8553-d3666554d31c",
   "metadata": {},
   "outputs": [],
   "source": [
    "from osgeo import gdal\n",
    "from osgeo import gdal_array\n",
    "import matplotlib.pyplot as plt\n",
    "from scipy import stats\n",
    "import pandas as pd"
   ]
  },
  {
   "cell_type": "code",
   "execution_count": 12,
   "id": "643ed72c-af88-4197-b8cb-d9fb2ba93c5a",
   "metadata": {},
   "outputs": [
    {
     "name": "stdout",
     "output_type": "stream",
     "text": [
      "Numero di bande nell'immagine = 10\n"
     ]
    },
    {
     "ename": "AttributeError",
     "evalue": "'NoneType' object has no attribute 'ReadAsArray'",
     "output_type": "error",
     "traceback": [
      "\u001b[1;31m---------------------------------------------------------------------------\u001b[0m",
      "\u001b[1;31mAttributeError\u001b[0m                            Traceback (most recent call last)",
      "Cell \u001b[1;32mIn[12], line 8\u001b[0m\n\u001b[0;32m      5\u001b[0m \u001b[38;5;28mprint\u001b[39m(\u001b[38;5;124m\"\u001b[39m\u001b[38;5;124mNumero di bande nell\u001b[39m\u001b[38;5;124m'\u001b[39m\u001b[38;5;124mimmagine = \u001b[39m\u001b[38;5;132;01m{}\u001b[39;00m\u001b[38;5;124m\"\u001b[39m\u001b[38;5;241m.\u001b[39mformat(ds\u001b[38;5;241m.\u001b[39mRasterCount))\n\u001b[0;32m      7\u001b[0m band \u001b[38;5;241m=\u001b[39m ds\u001b[38;5;241m.\u001b[39mGetRasterBand(\u001b[38;5;241m11\u001b[39m)\n\u001b[1;32m----> 8\u001b[0m image \u001b[38;5;241m=\u001b[39m \u001b[43mband\u001b[49m\u001b[38;5;241;43m.\u001b[39;49m\u001b[43mReadAsArray\u001b[49m(\u001b[38;5;241m0\u001b[39m, \u001b[38;5;241m0\u001b[39m, ds\u001b[38;5;241m.\u001b[39mRasterXSize, ds\u001b[38;5;241m.\u001b[39mRasterYSize)\n\u001b[0;32m     10\u001b[0m \u001b[38;5;66;03m#info immagine\u001b[39;00m\n\u001b[0;32m     11\u001b[0m \u001b[38;5;28mprint\u001b[39m(\u001b[38;5;124m'\u001b[39m\u001b[38;5;124mType: \u001b[39m\u001b[38;5;124m'\u001b[39m , \u001b[38;5;28mtype\u001b[39m(image)) \n",
      "\u001b[1;31mAttributeError\u001b[0m: 'NoneType' object has no attribute 'ReadAsArray'"
     ]
    }
   ],
   "source": [
    "#apertura tif\n",
    "ds = gdal.Open(\"3 Zeuli 220623 ORTHO_MULTI_R_G_B_RE1_NIR.tif\")\n",
    "\n",
    "# info raster\n",
    "print(\"Numero di bande nell'immagine = {}\".format(ds.RasterCount))\n",
    "\n",
    "band = ds.GetRasterBand(1)\n",
    "image = band.ReadAsArray(0, 0, ds.RasterXSize, ds.RasterYSize)\n",
    "\n",
    "#info immagine\n",
    "print('Type: ' , type(image)) \n",
    "print('\\nShape: {}'.format(image.shape)) \n",
    "print('Altezza in pixels = {}'.format(image.shape[0])) \n",
    "print('Larghezza in pixels = {}'.format(image.shape[1])) \n",
    "\n",
    "print('\\nNumero pixels = {}'.format(image.size)) \n",
    "print('\\nValore massimo =  {}'.format(image.max())) \n",
    "print('Valore minimo = {}'.format(image.min()))\n",
    "print('Valore medio =  {}'.format(image.mean()))\n",
    "\n",
    "print('\\nValore del pixel centrale = {}'.format(image[image.shape[0]//2, image.shape[1]//2]))\n",
    "\n",
    "#plot immagine\n",
    "gt = ds.GetGeoTransform()\n",
    "plt.figure(figsize=(10, 10))\n",
    "plt.imshow(image, cmap=\"gray\", extent=(gt[0], gt[0] + ds.RasterXSize * gt[1],    \n",
    "                                       gt[3] + ds.RasterYSize * gt[5], gt[3]), origin='upper')\n",
    "plt.show()"
   ]
  },
  {
   "cell_type": "code",
   "execution_count": null,
   "id": "da6392f5-57ba-4747-91ed-9f5043e8118f",
   "metadata": {},
   "outputs": [],
   "source": []
  }
 ],
 "metadata": {
  "kernelspec": {
   "display_name": "Python 3 (ipykernel)",
   "language": "python",
   "name": "python3"
  },
  "language_info": {
   "codemirror_mode": {
    "name": "ipython",
    "version": 3
   },
   "file_extension": ".py",
   "mimetype": "text/x-python",
   "name": "python",
   "nbconvert_exporter": "python",
   "pygments_lexer": "ipython3",
   "version": "3.8.18"
  }
 },
 "nbformat": 4,
 "nbformat_minor": 5
}

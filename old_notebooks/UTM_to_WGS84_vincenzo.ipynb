{
 "cells": [
  {
   "cell_type": "code",
   "execution_count": 1,
   "metadata": {},
   "outputs": [],
   "source": [
    "import sentinelhub as sh\n",
    "from sentinelhub import CRS\n",
    "import pandas as pd"
   ]
  },
  {
   "cell_type": "code",
   "execution_count": 2,
   "metadata": {},
   "outputs": [],
   "source": [
    "input_folder = r\"C:\\Users\\giova\\OneDrive\\Desktop\"\n",
    "input_path = input_folder + \"\\\\Zeuli_cond.csv\"\n",
    "output_path = input_folder + \"\\\\Zeuli_cond_convertito.csv\""
   ]
  },
  {
   "cell_type": "code",
   "execution_count": 9,
   "metadata": {},
   "outputs": [
    {
     "data": {
      "text/html": [
       "<div>\n",
       "<style scoped>\n",
       "    .dataframe tbody tr th:only-of-type {\n",
       "        vertical-align: middle;\n",
       "    }\n",
       "\n",
       "    .dataframe tbody tr th {\n",
       "        vertical-align: top;\n",
       "    }\n",
       "\n",
       "    .dataframe thead th {\n",
       "        text-align: right;\n",
       "    }\n",
       "</style>\n",
       "<table border=\"1\" class=\"dataframe\">\n",
       "  <thead>\n",
       "    <tr style=\"text-align: right;\">\n",
       "      <th></th>\n",
       "      <th>Longitudine</th>\n",
       "      <th>Latitudine</th>\n",
       "      <th>Cond(mS/m)</th>\n",
       "    </tr>\n",
       "  </thead>\n",
       "  <tbody>\n",
       "    <tr>\n",
       "      <th>0</th>\n",
       "      <td>600007.0426</td>\n",
       "      <td>4566081.505</td>\n",
       "      <td>5,8</td>\n",
       "    </tr>\n",
       "    <tr>\n",
       "      <th>1</th>\n",
       "      <td>600007.0945</td>\n",
       "      <td>4566080.591</td>\n",
       "      <td>6,16</td>\n",
       "    </tr>\n",
       "    <tr>\n",
       "      <th>2</th>\n",
       "      <td>600007.1465</td>\n",
       "      <td>4566079.677</td>\n",
       "      <td>4,03</td>\n",
       "    </tr>\n",
       "    <tr>\n",
       "      <th>3</th>\n",
       "      <td>600007.1984</td>\n",
       "      <td>4566078.764</td>\n",
       "      <td>3,78</td>\n",
       "    </tr>\n",
       "    <tr>\n",
       "      <th>4</th>\n",
       "      <td>600007.2503</td>\n",
       "      <td>4566077.851</td>\n",
       "      <td>5,29</td>\n",
       "    </tr>\n",
       "    <tr>\n",
       "      <th>...</th>\n",
       "      <td>...</td>\n",
       "      <td>...</td>\n",
       "      <td>...</td>\n",
       "    </tr>\n",
       "    <tr>\n",
       "      <th>1787</th>\n",
       "      <td>600069.5499</td>\n",
       "      <td>4566080.067</td>\n",
       "      <td>4,8</td>\n",
       "    </tr>\n",
       "    <tr>\n",
       "      <th>1788</th>\n",
       "      <td>600069.4925</td>\n",
       "      <td>4566081.135</td>\n",
       "      <td>5,06</td>\n",
       "    </tr>\n",
       "    <tr>\n",
       "      <th>1789</th>\n",
       "      <td>600069.4342</td>\n",
       "      <td>4566082.204</td>\n",
       "      <td>4,71</td>\n",
       "    </tr>\n",
       "    <tr>\n",
       "      <th>1790</th>\n",
       "      <td>600069.3768</td>\n",
       "      <td>4566083.272</td>\n",
       "      <td>4,73</td>\n",
       "    </tr>\n",
       "    <tr>\n",
       "      <th>1791</th>\n",
       "      <td>600069.3185</td>\n",
       "      <td>4566084.341</td>\n",
       "      <td>4,44</td>\n",
       "    </tr>\n",
       "  </tbody>\n",
       "</table>\n",
       "<p>1792 rows × 3 columns</p>\n",
       "</div>"
      ],
      "text/plain": [
       "      Longitudine   Latitudine Cond(mS/m)\n",
       "0     600007.0426  4566081.505        5,8\n",
       "1     600007.0945  4566080.591       6,16\n",
       "2     600007.1465  4566079.677       4,03\n",
       "3     600007.1984  4566078.764       3,78\n",
       "4     600007.2503  4566077.851       5,29\n",
       "...           ...          ...        ...\n",
       "1787  600069.5499  4566080.067        4,8\n",
       "1788  600069.4925  4566081.135       5,06\n",
       "1789  600069.4342  4566082.204       4,71\n",
       "1790  600069.3768  4566083.272       4,73\n",
       "1791  600069.3185  4566084.341       4,44\n",
       "\n",
       "[1792 rows x 3 columns]"
      ]
     },
     "execution_count": 9,
     "metadata": {},
     "output_type": "execute_result"
    }
   ],
   "source": [
    "df = pd.read_csv(input_path, delimiter=',')\n",
    "df['Longitudine'] = df['Longitudine'].str.replace(',','.')\n",
    "df['Longitudine'] = df['Longitudine'].astype(float)\n",
    "df['Latitudine'] = df['Latitudine'].str.replace(',','.')\n",
    "df['Latitudine'] = df['Latitudine'].astype(float)\n",
    "df"
   ]
  },
  {
   "cell_type": "code",
   "execution_count": 10,
   "metadata": {},
   "outputs": [
    {
     "data": {
      "text/plain": [
       "CRS('4326')"
      ]
     },
     "execution_count": 10,
     "metadata": {},
     "output_type": "execute_result"
    }
   ],
   "source": [
    "target_crs = CRS.WGS84\n",
    "source_crs = CRS.UTM_33N\n",
    "target_crs "
   ]
  },
  {
   "cell_type": "code",
   "execution_count": 11,
   "metadata": {},
   "outputs": [
    {
     "name": "stderr",
     "output_type": "stream",
     "text": [
      "C:\\Users\\giova\\AppData\\Local\\Temp\\ipykernel_12680\\1550542055.py:6: FutureWarning: This function is deprecated. See: https://pyproj4.github.io/pyproj/stable/gotchas.html#upgrading-to-pyproj-2-from-pyproj-1\n",
      "  df['Longitudine'], df['Latitudine'] = pyproj.transform(in_proj, out_proj, df['Longitudine'], df['Latitudine'])\n"
     ]
    }
   ],
   "source": [
    "import pyproj\n",
    "\n",
    "in_proj = pyproj.Proj(proj='utm', zone=33, ellps='WGS84')\n",
    "out_proj = pyproj.Proj(proj='latlong', ellps='WGS84')\n",
    "\n",
    "df['Longitudine'], df['Latitudine'] = pyproj.transform(in_proj, out_proj, df['Longitudine'], df['Latitudine'])"
   ]
  },
  {
   "cell_type": "code",
   "execution_count": 13,
   "metadata": {},
   "outputs": [],
   "source": [
    "df.to_csv(output_path)"
   ]
  },
  {
   "cell_type": "code",
   "execution_count": null,
   "metadata": {},
   "outputs": [],
   "source": []
  }
 ],
 "metadata": {
  "kernelspec": {
   "display_name": "env_prova",
   "language": "python",
   "name": "python3"
  },
  "language_info": {
   "codemirror_mode": {
    "name": "ipython",
    "version": 3
   },
   "file_extension": ".py",
   "mimetype": "text/x-python",
   "name": "python",
   "nbconvert_exporter": "python",
   "pygments_lexer": "ipython3",
   "version": "3.12.0"
  }
 },
 "nbformat": 4,
 "nbformat_minor": 2
}

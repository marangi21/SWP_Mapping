{
 "cells": [
  {
   "cell_type": "code",
   "execution_count": 63,
   "id": "e4768de4-d1fa-470d-bcc3-cf2840ea0dbc",
   "metadata": {},
   "outputs": [],
   "source": [
    "from osgeo import gdal, gdal_array\n",
    "import numpy as np\n",
    "import rasterio as rio\n",
    "import matplotlib.pyplot as plt\n",
    "import spyndex as spy\n",
    "import math\n",
    "import xarray as xr\n",
    "from rasterio import plot"
   ]
  },
  {
   "cell_type": "code",
   "execution_count": 64,
   "id": "4fe8a68d-ac27-4631-8260-34aeebf6912d",
   "metadata": {},
   "outputs": [
    {
     "name": "stdout",
     "output_type": "stream",
     "text": [
      "Processo completato. Il nuovo raster è stato creato: C:\\Users\\giova\\OneDrive\\Desktop\\Resampled\\3 Zeuli 220623\\MULTI_ORTHO\\3 Zeuli 220623 ORTHO_MULTI_R_G_B_NIR_RE\n"
     ]
    }
   ],
   "source": [
    "# File di input e output\n",
    "input_tif = r\"C:\\Users\\giova\\OneDrive\\Desktop\\Resampled\\3 Zeuli 220623\\MULTI_ORTHO\\3 Zeuli 220623 ORTHO_MULTI_10.tif\"\n",
    "output_tif = r\"C:\\Users\\giova\\OneDrive\\Desktop\\Resampled\\3 Zeuli 220623\\MULTI_ORTHO\\3 Zeuli 220623 ORTHO_MULTI_R_G_B_NIR_RE\"\n",
    "\n",
    "# Bande da estrarre\n",
    "band_indices = [1, 3, 5, 7, 9]\n",
    "\n",
    "# Apre il raster di input\n",
    "input_ds = gdal.Open(input_tif)\n",
    "\n",
    "# Ottiene informazioni sulla larghezza, altezza e numero di bande del raster di input\n",
    "width = input_ds.RasterXSize\n",
    "height = input_ds.RasterYSize\n",
    "num_bands = len(band_indices)\n",
    "\n",
    "# Ottiene il tipo di dati del raster di input\n",
    "data_type = input_ds.GetRasterBand(1).DataType\n",
    "\n",
    "# Crea il raster di output\n",
    "driver = gdal.GetDriverByName('GTiff')\n",
    "output_ds = driver.Create(output_tif, width, height, num_bands, data_type)\n",
    "\n",
    "# Copia le informazioni di geotrasformazione e sistema di riferimento dal raster di input a quello di output\n",
    "output_ds.SetGeoTransform(input_ds.GetGeoTransform())\n",
    "output_ds.SetProjection(input_ds.GetProjection())\n",
    "\n",
    "# Estrae e copia le bande specificate\n",
    "for i, band_index in enumerate(band_indices, start=1):\n",
    "    band_data = input_ds.GetRasterBand(band_index).ReadAsArray()\n",
    "    output_ds.GetRasterBand(i).WriteArray(band_data)\n",
    "\n",
    "# Chiude i dataset\n",
    "input_ds = None\n",
    "output_ds = None\n",
    "\n",
    "print(\"Processo completato. Il nuovo raster è stato creato:\", output_tif)\n"
   ]
  }
 ],
 "metadata": {
  "kernelspec": {
   "display_name": "Python 3 (ipykernel)",
   "language": "python",
   "name": "python3"
  },
  "language_info": {
   "codemirror_mode": {
    "name": "ipython",
    "version": 3
   },
   "file_extension": ".py",
   "mimetype": "text/x-python",
   "name": "python",
   "nbconvert_exporter": "python",
   "pygments_lexer": "ipython3",
   "version": "3.8.18"
  }
 },
 "nbformat": 4,
 "nbformat_minor": 5
}

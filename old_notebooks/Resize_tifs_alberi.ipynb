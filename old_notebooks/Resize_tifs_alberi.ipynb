{
 "cells": [
  {
   "cell_type": "code",
   "execution_count": 8,
   "id": "14676aa7-e3f9-4168-927b-20c2da94e8d7",
   "metadata": {},
   "outputs": [],
   "source": [
    "import os\n",
    "import rasterio as rio\n",
    "from rasterio.transform import from_origin\n",
    "from rasterio.enums import Resampling"
   ]
  },
  {
   "cell_type": "code",
   "execution_count": 9,
   "id": "4e750962-6f31-447d-8878-2303479cab73",
   "metadata": {},
   "outputs": [],
   "source": [
    "folder_1 = r\"C:\\Users\\giova\\OneDrive\\Desktop\\ZEULI\\3 Zeuli 220623\\Raster Alberi\"\n",
    "folder_2 = r\"C:\\Users\\giova\\OneDrive\\Desktop\\ZEULI\\5 Zeuli 220802\\Raster Alberi\"\n",
    "\n",
    "out_1 = r\"C:\\Users\\giova\\OneDrive\\Desktop\\ZEULI\\3 Zeuli 220623\\Resized Trees\"\n",
    "out_2 = r\"C:\\Users\\giova\\OneDrive\\Desktop\\ZEULI\\5 Zeuli 220802\\Resized Trees\"\n",
    "\n",
    "output_image_size = (224, 224)"
   ]
  },
  {
   "cell_type": "code",
   "execution_count": 11,
   "id": "be1cc851-b921-464f-b43d-8501486f7c77",
   "metadata": {},
   "outputs": [
    {
     "name": "stdout",
     "output_type": "stream",
     "text": [
      "3 Zeuli 220623 Albero 136.tif\n",
      "3 Zeuli 220623 Albero 137.tif\n",
      "3 Zeuli 220623 Albero 141.tif\n",
      "3 Zeuli 220623 Albero 142.tif\n",
      "3 Zeuli 220623 Albero 145.tif\n",
      "3 Zeuli 220623 Albero 146.tif\n",
      "3 Zeuli 220623 Albero 147.tif\n",
      "3 Zeuli 220623 Albero 148.tif\n",
      "3 Zeuli 220623 Albero 31.tif\n",
      "3 Zeuli 220623 Albero 32.tif\n",
      "3 Zeuli 220623 Albero 33.tif\n",
      "3 Zeuli 220623 Albero 34.tif\n",
      "3 Zeuli 220623 Albero 35.tif\n",
      "3 Zeuli 220623 Albero 36.tif\n",
      "3 Zeuli 220623 Albero 37.tif\n",
      "3 Zeuli 220623 Albero 41.tif\n",
      "3 Zeuli 220623 Albero 42.tif\n",
      "3 Zeuli 220623 Albero 43.tif\n",
      "3 Zeuli 220623 Albero 44.tif\n",
      "3 Zeuli 220623 Albero 45.tif\n",
      "3 Zeuli 220623 Albero 46.tif\n",
      "3 Zeuli 220623 Albero 51.tif\n",
      "3 Zeuli 220623 Albero 52.tif\n",
      "3 Zeuli 220623 Albero 53.tif\n",
      "3 Zeuli 220623 Albero 54.tif\n",
      "3 Zeuli 220623 Albero 59.tif\n",
      "3 Zeuli 220623 Albero 60.tif\n"
     ]
    }
   ],
   "source": [
    "input_folder = folder_1\n",
    "output_folder = out_1\n",
    "for file in os.listdir(input_folder):\n",
    "    if file.endswith(\".tif\"):\n",
    "        print(file)\n",
    "        with rio.open(os.path.join(input_folder, file)) as src:\n",
    "            data = src.read(out_shape=(src.count, output_image_size[0], output_image_size[1]), resampling=Resampling.bilinear)\n",
    "            transform = from_origin(src.bounds.left, src.bounds.top, src.transform.a, src.transform.e)\n",
    "            with rio.open(os.path.join(output_folder, file), 'w', driver='GTiff', height= output_image_size[0],\n",
    "                               width=output_image_size[1], count=src.count, dtype=data.dtype, crs=src.crs,\n",
    "                               transform=transform) as dst:\n",
    "                dst.write(data)"
   ]
  },
  {
   "cell_type": "code",
   "execution_count": null,
   "id": "d68258b4-ece0-44d2-beee-2736b04570f9",
   "metadata": {},
   "outputs": [],
   "source": []
  }
 ],
 "metadata": {
  "kernelspec": {
   "display_name": "Python 3 (ipykernel)",
   "language": "python",
   "name": "python3"
  },
  "language_info": {
   "codemirror_mode": {
    "name": "ipython",
    "version": 3
   },
   "file_extension": ".py",
   "mimetype": "text/x-python",
   "name": "python",
   "nbconvert_exporter": "python",
   "pygments_lexer": "ipython3",
   "version": "3.8.18"
  }
 },
 "nbformat": 4,
 "nbformat_minor": 5
}

{
 "cells": [
  {
   "cell_type": "code",
   "execution_count": 1,
   "id": "eea21d02-4643-407b-b503-ba8cd65c7b88",
   "metadata": {},
   "outputs": [],
   "source": [
    "import geopandas as gpd\n",
    "import pyproj\n",
    "from shapely.geometry import Point\n",
    "import pandas as pd"
   ]
  },
  {
   "cell_type": "code",
   "execution_count": 13,
   "id": "d482fa2d-91ea-4c42-a87c-259c119a0443",
   "metadata": {},
   "outputs": [
    {
     "data": {
      "text/plain": [
       "Index([0, 1, 2], dtype='int64')"
      ]
     },
     "execution_count": 13,
     "metadata": {},
     "output_type": "execute_result"
    }
   ],
   "source": [
    "#Apre foglio excel in un dataframe\n",
    "df = pd.read_csv(r\"C:\\Users\\giova\\OneDrive\\Desktop\\gas station taranto.csv\", sep=';', header=None)\n",
    "df.columns"
   ]
  },
  {
   "cell_type": "code",
   "execution_count": 15,
   "id": "88f3d033-37b6-43d8-83c1-a3d515cf2b2c",
   "metadata": {},
   "outputs": [],
   "source": [
    "punti = []\n",
    "for lon, lat in zip(df[1], df[2]):\n",
    "    punti.append(Point(lon, lat))\n",
    "\n",
    "gdf = gpd.GeoDataFrame(geometry=punti, crs='EPSG:32633')\n",
    "\n",
    "output_file = r\"C:\\Users\\giova\\OneDrive\\Desktop\\shapefile benzinai taranto.shp\"\n",
    "gdf.to_file(output_file)"
   ]
  },
  {
   "cell_type": "code",
   "execution_count": null,
   "id": "48f20f85-8afd-4da4-9441-6166f13989d8",
   "metadata": {},
   "outputs": [],
   "source": []
  }
 ],
 "metadata": {
  "kernelspec": {
   "display_name": "Python 3 (ipykernel)",
   "language": "python",
   "name": "python3"
  },
  "language_info": {
   "codemirror_mode": {
    "name": "ipython",
    "version": 3
   },
   "file_extension": ".py",
   "mimetype": "text/x-python",
   "name": "python",
   "nbconvert_exporter": "python",
   "pygments_lexer": "ipython3",
   "version": "3.8.18"
  }
 },
 "nbformat": 4,
 "nbformat_minor": 5
}

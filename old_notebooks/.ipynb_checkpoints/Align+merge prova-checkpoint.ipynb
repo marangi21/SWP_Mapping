{
 "cells": [
  {
   "cell_type": "code",
   "execution_count": 83,
   "id": "beb222f1-6024-4c9a-aeda-4b37f8edde20",
   "metadata": {},
   "outputs": [],
   "source": [
    "import os\n",
    "import rasterio\n",
    "from rasterio.merge import merge\n",
    "from rasterio.enums import Resampling\n",
    "from rasterio.warp import reproject, Resampling\n",
    "from osgeo import gdal, gdal_array"
   ]
  },
  {
   "cell_type": "code",
   "execution_count": 88,
   "id": "28f088e9-190e-407a-90de-70fc978b7975",
   "metadata": {},
   "outputs": [],
   "source": [
    "# Directory contenente i file tif\n",
    "input_folder = r'C:\\Users\\giova\\OneDrive\\Desktop\\prova new dataset'\n",
    "output_file = r'C:\\Users\\giova\\OneDrive\\Desktop\\prova new dataset\\merged\\3 Zeuli 220623 ORTHO_MULTI_11.tif'\n",
    "\n",
    "# Lista per memorizzare i riferimenti a tutti i file tif\n",
    "tif_files = []"
   ]
  },
  {
   "cell_type": "code",
   "execution_count": 89,
   "id": "786298d8-826a-44e3-beb6-c726e40e8897",
   "metadata": {},
   "outputs": [
    {
     "data": {
      "text/plain": [
       "['C:\\\\Users\\\\giova\\\\OneDrive\\\\Desktop\\\\prova new dataset\\\\3 Zeuli 220623 ORTHO_Blue-444.tif',\n",
       " 'C:\\\\Users\\\\giova\\\\OneDrive\\\\Desktop\\\\prova new dataset\\\\3 Zeuli 220623 ORTHO_Blue.tif',\n",
       " 'C:\\\\Users\\\\giova\\\\OneDrive\\\\Desktop\\\\prova new dataset\\\\3 Zeuli 220623 ORTHO_Green-531.tif',\n",
       " 'C:\\\\Users\\\\giova\\\\OneDrive\\\\Desktop\\\\prova new dataset\\\\3 Zeuli 220623 ORTHO_Green.tif',\n",
       " 'C:\\\\Users\\\\giova\\\\OneDrive\\\\Desktop\\\\prova new dataset\\\\3 Zeuli 220623 ORTHO_NIR.tif',\n",
       " 'C:\\\\Users\\\\giova\\\\OneDrive\\\\Desktop\\\\prova new dataset\\\\3 Zeuli 220623 ORTHO_Red edge-705.tif',\n",
       " 'C:\\\\Users\\\\giova\\\\OneDrive\\\\Desktop\\\\prova new dataset\\\\3 Zeuli 220623 ORTHO_Red edge-740.tif',\n",
       " 'C:\\\\Users\\\\giova\\\\OneDrive\\\\Desktop\\\\prova new dataset\\\\3 Zeuli 220623 ORTHO_Red edge.tif',\n",
       " 'C:\\\\Users\\\\giova\\\\OneDrive\\\\Desktop\\\\prova new dataset\\\\3 Zeuli 220623 ORTHO_Red-650.tif',\n",
       " 'C:\\\\Users\\\\giova\\\\OneDrive\\\\Desktop\\\\prova new dataset\\\\3 Zeuli 220623 ORTHO_Red.tif',\n",
       " 'C:\\\\Users\\\\giova\\\\OneDrive\\\\Desktop\\\\prova new dataset\\\\3 Zeuli 220623 ORTHO_temp.tif',\n",
       " 'C:\\\\Users\\\\giova\\\\OneDrive\\\\Desktop\\\\prova new dataset\\\\merged\\\\3 Zeuli 220623 ORTHO_MULTI_11.tif']"
      ]
     },
     "execution_count": 89,
     "metadata": {},
     "output_type": "execute_result"
    }
   ],
   "source": [
    "# Scansione della cartella per individuare i file tif\n",
    "for root, dirs, files in os.walk(input_folder):\n",
    "    for file in files:\n",
    "        if file.endswith('.tif'):\n",
    "            tif_files.append(os.path.join(root, file))\n",
    "\n",
    "tif_files"
   ]
  },
  {
   "cell_type": "code",
   "execution_count": 62,
   "id": "d84844db-b594-4dab-a36c-070e554766b3",
   "metadata": {},
   "outputs": [
    {
     "data": {
      "text/plain": [
       "[array([[0, 0, 0, ..., 0, 0, 0],\n",
       "        [0, 0, 0, ..., 0, 0, 0],\n",
       "        [0, 0, 0, ..., 0, 0, 0],\n",
       "        ...,\n",
       "        [0, 0, 0, ..., 0, 0, 0],\n",
       "        [0, 0, 0, ..., 0, 0, 0],\n",
       "        [0, 0, 0, ..., 0, 0, 0]], dtype=uint16),\n",
       " array([[0, 0, 0, ..., 0, 0, 0],\n",
       "        [0, 0, 0, ..., 0, 0, 0],\n",
       "        [0, 0, 0, ..., 0, 0, 0],\n",
       "        ...,\n",
       "        [0, 0, 0, ..., 0, 0, 0],\n",
       "        [0, 0, 0, ..., 0, 0, 0],\n",
       "        [0, 0, 0, ..., 0, 0, 0]], dtype=uint16),\n",
       " array([[0, 0, 0, ..., 0, 0, 0],\n",
       "        [0, 0, 0, ..., 0, 0, 0],\n",
       "        [0, 0, 0, ..., 0, 0, 0],\n",
       "        ...,\n",
       "        [0, 0, 0, ..., 0, 0, 0],\n",
       "        [0, 0, 0, ..., 0, 0, 0],\n",
       "        [0, 0, 0, ..., 0, 0, 0]], dtype=uint16),\n",
       " array([[0, 0, 0, ..., 0, 0, 0],\n",
       "        [0, 0, 0, ..., 0, 0, 0],\n",
       "        [0, 0, 0, ..., 0, 0, 0],\n",
       "        ...,\n",
       "        [0, 0, 0, ..., 0, 0, 0],\n",
       "        [0, 0, 0, ..., 0, 0, 0],\n",
       "        [0, 0, 0, ..., 0, 0, 0]], dtype=uint16),\n",
       " array([[0, 0, 0, ..., 0, 0, 0],\n",
       "        [0, 0, 0, ..., 0, 0, 0],\n",
       "        [0, 0, 0, ..., 0, 0, 0],\n",
       "        ...,\n",
       "        [0, 0, 0, ..., 0, 0, 0],\n",
       "        [0, 0, 0, ..., 0, 0, 0],\n",
       "        [0, 0, 0, ..., 0, 0, 0]], dtype=uint16),\n",
       " array([[0, 0, 0, ..., 0, 0, 0],\n",
       "        [0, 0, 0, ..., 0, 0, 0],\n",
       "        [0, 0, 0, ..., 0, 0, 0],\n",
       "        ...,\n",
       "        [0, 0, 0, ..., 0, 0, 0],\n",
       "        [0, 0, 0, ..., 0, 0, 0],\n",
       "        [0, 0, 0, ..., 0, 0, 0]], dtype=uint16),\n",
       " array([[0, 0, 0, ..., 0, 0, 0],\n",
       "        [0, 0, 0, ..., 0, 0, 0],\n",
       "        [0, 0, 0, ..., 0, 0, 0],\n",
       "        ...,\n",
       "        [0, 0, 0, ..., 0, 0, 0],\n",
       "        [0, 0, 0, ..., 0, 0, 0],\n",
       "        [0, 0, 0, ..., 0, 0, 0]], dtype=uint16),\n",
       " array([[0, 0, 0, ..., 0, 0, 0],\n",
       "        [0, 0, 0, ..., 0, 0, 0],\n",
       "        [0, 0, 0, ..., 0, 0, 0],\n",
       "        ...,\n",
       "        [0, 0, 0, ..., 0, 0, 0],\n",
       "        [0, 0, 0, ..., 0, 0, 0],\n",
       "        [0, 0, 0, ..., 0, 0, 0]], dtype=uint16),\n",
       " array([[0, 0, 0, ..., 0, 0, 0],\n",
       "        [0, 0, 0, ..., 0, 0, 0],\n",
       "        [0, 0, 0, ..., 0, 0, 0],\n",
       "        ...,\n",
       "        [0, 0, 0, ..., 0, 0, 0],\n",
       "        [0, 0, 0, ..., 0, 0, 0],\n",
       "        [0, 0, 0, ..., 0, 0, 0]], dtype=uint16),\n",
       " array([[0, 0, 0, ..., 0, 0, 0],\n",
       "        [0, 0, 0, ..., 0, 0, 0],\n",
       "        [0, 0, 0, ..., 0, 0, 0],\n",
       "        ...,\n",
       "        [0, 0, 0, ..., 0, 0, 0],\n",
       "        [0, 0, 0, ..., 0, 0, 0],\n",
       "        [0, 0, 0, ..., 0, 0, 0]], dtype=uint16),\n",
       " array([[0., 0., 0., ..., 0., 0., 0.],\n",
       "        [0., 0., 0., ..., 0., 0., 0.],\n",
       "        [0., 0., 0., ..., 0., 0., 0.],\n",
       "        ...,\n",
       "        [0., 0., 0., ..., 0., 0., 0.],\n",
       "        [0., 0., 0., ..., 0., 0., 0.],\n",
       "        [0., 0., 0., ..., 0., 0., 0.]])]"
      ]
     },
     "execution_count": 62,
     "metadata": {},
     "output_type": "execute_result"
    }
   ],
   "source": [
    "# Lista per memorizzare i raster per ogni banda\n",
    "band_rasters = []\n",
    "# Apre e legge la prima banda di ogni tif\n",
    "for tif_file in tif_files:\n",
    "    with rasterio.open(tif_file) as src:\n",
    "        band_rasters.append(src.read(1))\n",
    "\n",
    "band_rasters"
   ]
  },
  {
   "cell_type": "code",
   "execution_count": 90,
   "id": "575bcbe7-075a-4734-8ed0-afea30f6b966",
   "metadata": {},
   "outputs": [
    {
     "name": "stdout",
     "output_type": "stream",
     "text": [
      "height = 12109\n",
      "width = 12455\n"
     ]
    }
   ],
   "source": [
    "print(f\"height = {len(band_rasters[0])}\")\n",
    "print(f\"width = {len(band_rasters[0][0])}\")"
   ]
  },
  {
   "cell_type": "code",
   "execution_count": 91,
   "id": "7dadf900-322e-4753-a4bc-dcf8506c9e39",
   "metadata": {},
   "outputs": [
    {
     "ename": "CPLE_AppDefinedError",
     "evalue": "Deleting C:/Users/giova/OneDrive/Desktop/prova new dataset/merged/3 Zeuli 220623 ORTHO_MULTI_11.tif failed: Permission denied",
     "output_type": "error",
     "traceback": [
      "\u001b[1;31m---------------------------------------------------------------------------\u001b[0m",
      "\u001b[1;31mCPLE_AppDefinedError\u001b[0m                      Traceback (most recent call last)",
      "Cell \u001b[1;32mIn[91], line 26\u001b[0m\n\u001b[0;32m     23\u001b[0m \u001b[38;5;28;01mwith\u001b[39;00m rio\u001b[38;5;241m.\u001b[39mopen(tif_files[\u001b[38;5;241m0\u001b[39m]) \u001b[38;5;28;01mas\u001b[39;00m src:\n\u001b[0;32m     24\u001b[0m     profile \u001b[38;5;241m=\u001b[39m src\u001b[38;5;241m.\u001b[39mprofile\n\u001b[1;32m---> 26\u001b[0m \u001b[38;5;28;01mwith\u001b[39;00m \u001b[43mrasterio\u001b[49m\u001b[38;5;241;43m.\u001b[39;49m\u001b[43mopen\u001b[49m\u001b[43m(\u001b[49m\u001b[43moutput_file\u001b[49m\u001b[43m,\u001b[49m\u001b[43m \u001b[49m\u001b[38;5;124;43m'\u001b[39;49m\u001b[38;5;124;43mw\u001b[39;49m\u001b[38;5;124;43m'\u001b[39;49m\u001b[43m,\u001b[49m\u001b[43m \u001b[49m\u001b[38;5;241;43m*\u001b[39;49m\u001b[38;5;241;43m*\u001b[39;49m\u001b[43mprofile\u001b[49m\u001b[43m)\u001b[49m \u001b[38;5;28;01mas\u001b[39;00m dst:\n\u001b[0;32m     27\u001b[0m     \u001b[38;5;28;01mfor\u001b[39;00m i, band_data \u001b[38;5;129;01min\u001b[39;00m \u001b[38;5;28menumerate\u001b[39m (band_rasters_aligned, start\u001b[38;5;241m=\u001b[39m\u001b[38;5;241m1\u001b[39m):\n\u001b[0;32m     28\u001b[0m         dst\u001b[38;5;241m.\u001b[39mwrite(band_data, i)\n",
      "File \u001b[1;32m~\\anaconda3\\envs\\deep_learning_env\\lib\\site-packages\\rasterio\\env.py:451\u001b[0m, in \u001b[0;36mensure_env_with_credentials.<locals>.wrapper\u001b[1;34m(*args, **kwds)\u001b[0m\n\u001b[0;32m    448\u001b[0m     session \u001b[38;5;241m=\u001b[39m DummySession()\n\u001b[0;32m    450\u001b[0m \u001b[38;5;28;01mwith\u001b[39;00m env_ctor(session\u001b[38;5;241m=\u001b[39msession):\n\u001b[1;32m--> 451\u001b[0m     \u001b[38;5;28;01mreturn\u001b[39;00m \u001b[43mf\u001b[49m\u001b[43m(\u001b[49m\u001b[38;5;241;43m*\u001b[39;49m\u001b[43margs\u001b[49m\u001b[43m,\u001b[49m\u001b[43m \u001b[49m\u001b[38;5;241;43m*\u001b[39;49m\u001b[38;5;241;43m*\u001b[39;49m\u001b[43mkwds\u001b[49m\u001b[43m)\u001b[49m\n",
      "File \u001b[1;32m~\\anaconda3\\envs\\deep_learning_env\\lib\\site-packages\\rasterio\\__init__.py:341\u001b[0m, in \u001b[0;36mopen\u001b[1;34m(fp, mode, driver, width, height, count, crs, transform, dtype, nodata, sharing, **kwargs)\u001b[0m\n\u001b[0;32m    339\u001b[0m writer \u001b[38;5;241m=\u001b[39m get_writer_for_driver(driver)\n\u001b[0;32m    340\u001b[0m \u001b[38;5;28;01mif\u001b[39;00m writer \u001b[38;5;129;01mis\u001b[39;00m \u001b[38;5;129;01mnot\u001b[39;00m \u001b[38;5;28;01mNone\u001b[39;00m:\n\u001b[1;32m--> 341\u001b[0m     dataset \u001b[38;5;241m=\u001b[39m \u001b[43mwriter\u001b[49m\u001b[43m(\u001b[49m\n\u001b[0;32m    342\u001b[0m \u001b[43m        \u001b[49m\u001b[43mpath\u001b[49m\u001b[43m,\u001b[49m\n\u001b[0;32m    343\u001b[0m \u001b[43m        \u001b[49m\u001b[43mmode\u001b[49m\u001b[43m,\u001b[49m\n\u001b[0;32m    344\u001b[0m \u001b[43m        \u001b[49m\u001b[43mdriver\u001b[49m\u001b[38;5;241;43m=\u001b[39;49m\u001b[43mdriver\u001b[49m\u001b[43m,\u001b[49m\n\u001b[0;32m    345\u001b[0m \u001b[43m        \u001b[49m\u001b[43mwidth\u001b[49m\u001b[38;5;241;43m=\u001b[39;49m\u001b[43mwidth\u001b[49m\u001b[43m,\u001b[49m\n\u001b[0;32m    346\u001b[0m \u001b[43m        \u001b[49m\u001b[43mheight\u001b[49m\u001b[38;5;241;43m=\u001b[39;49m\u001b[43mheight\u001b[49m\u001b[43m,\u001b[49m\n\u001b[0;32m    347\u001b[0m \u001b[43m        \u001b[49m\u001b[43mcount\u001b[49m\u001b[38;5;241;43m=\u001b[39;49m\u001b[43mcount\u001b[49m\u001b[43m,\u001b[49m\n\u001b[0;32m    348\u001b[0m \u001b[43m        \u001b[49m\u001b[43mcrs\u001b[49m\u001b[38;5;241;43m=\u001b[39;49m\u001b[43mcrs\u001b[49m\u001b[43m,\u001b[49m\n\u001b[0;32m    349\u001b[0m \u001b[43m        \u001b[49m\u001b[43mtransform\u001b[49m\u001b[38;5;241;43m=\u001b[39;49m\u001b[43mtransform\u001b[49m\u001b[43m,\u001b[49m\n\u001b[0;32m    350\u001b[0m \u001b[43m        \u001b[49m\u001b[43mdtype\u001b[49m\u001b[38;5;241;43m=\u001b[39;49m\u001b[43mdtype\u001b[49m\u001b[43m,\u001b[49m\n\u001b[0;32m    351\u001b[0m \u001b[43m        \u001b[49m\u001b[43mnodata\u001b[49m\u001b[38;5;241;43m=\u001b[39;49m\u001b[43mnodata\u001b[49m\u001b[43m,\u001b[49m\n\u001b[0;32m    352\u001b[0m \u001b[43m        \u001b[49m\u001b[43msharing\u001b[49m\u001b[38;5;241;43m=\u001b[39;49m\u001b[43msharing\u001b[49m\u001b[43m,\u001b[49m\n\u001b[0;32m    353\u001b[0m \u001b[43m        \u001b[49m\u001b[38;5;241;43m*\u001b[39;49m\u001b[38;5;241;43m*\u001b[39;49m\u001b[43mkwargs\u001b[49m\n\u001b[0;32m    354\u001b[0m \u001b[43m    \u001b[49m\u001b[43m)\u001b[49m\n\u001b[0;32m    355\u001b[0m \u001b[38;5;28;01melse\u001b[39;00m:\n\u001b[0;32m    356\u001b[0m     \u001b[38;5;28;01mraise\u001b[39;00m DriverCapabilityError(\n\u001b[0;32m    357\u001b[0m         \u001b[38;5;124m\"\u001b[39m\u001b[38;5;124mWriter does not exist for driver: \u001b[39m\u001b[38;5;132;01m%s\u001b[39;00m\u001b[38;5;124m\"\u001b[39m \u001b[38;5;241m%\u001b[39m \u001b[38;5;28mstr\u001b[39m(driver)\n\u001b[0;32m    358\u001b[0m     )\n",
      "File \u001b[1;32mrasterio\\\\_io.pyx:1464\u001b[0m, in \u001b[0;36mrasterio._io.DatasetWriterBase.__init__\u001b[1;34m()\u001b[0m\n",
      "File \u001b[1;32mrasterio\\\\_io.pyx:330\u001b[0m, in \u001b[0;36mrasterio._io._delete_dataset_if_exists\u001b[1;34m()\u001b[0m\n",
      "File \u001b[1;32mrasterio\\\\_err.pyx:195\u001b[0m, in \u001b[0;36mrasterio._err.exc_wrap_int\u001b[1;34m()\u001b[0m\n",
      "\u001b[1;31mCPLE_AppDefinedError\u001b[0m: Deleting C:/Users/giova/OneDrive/Desktop/prova new dataset/merged/3 Zeuli 220623 ORTHO_MULTI_11.tif failed: Permission denied"
     ]
    }
   ],
   "source": [
    "# Legge e memorizza le bande di tutti i file tif\n",
    "band_rasters_aligned = []\n",
    "\n",
    "# Allinea le matrici dei raster utilizzando il riferimento del primo raster\n",
    "aligned_rasters = []\n",
    "first_raster = band_rasters[0]\n",
    "for band in band_rasters[1:]:\n",
    "    reprojected_band = np.zeros_like(first_raster)\n",
    "    reproject(\n",
    "        source=band,\n",
    "        destination=reprojected_band,\n",
    "        src_transform=src.transform,\n",
    "        src_crs=src.crs,\n",
    "        dst_transform=src.transform,\n",
    "        dst_crs=src.crs,\n",
    "        resampling=Resampling.nearest\n",
    "    )\n",
    "    aligned_rasters.append(reprojected_band)\n",
    "\n",
    "# Aggiunge il primo raster e gli altri raster allineati alla lista dei raster\n",
    "band_rasters_aligned = [first_raster] + aligned_rasters\n",
    "\n",
    "with rio.open(tif_files[0]) as src:\n",
    "    profile = src.profile\n",
    "\n",
    "with rasterio.open(output_file, 'w', **profile) as dst:\n",
    "    for i, band_data in enumerate (band_rasters_aligned, start=1):\n",
    "        dst.write(band_data, i)\n",
    "\n",
    "print(\"Operazione completata. Il tif a 11 bande è stato salvato in:\", output_file)"
   ]
  },
  {
   "cell_type": "code",
   "execution_count": 65,
   "id": "18a9b100-e1fd-4109-b2db-1c6b29008173",
   "metadata": {},
   "outputs": [
    {
     "name": "stdout",
     "output_type": "stream",
     "text": [
      "Band 0, shape (12109, 12455)\n",
      "Band 1, shape (12109, 12455)\n",
      "Band 2, shape (12109, 12455)\n",
      "Band 3, shape (12109, 12455)\n",
      "Band 4, shape (12109, 12455)\n",
      "Band 5, shape (12109, 12455)\n",
      "Band 6, shape (12109, 12455)\n",
      "Band 7, shape (12109, 12455)\n",
      "Band 8, shape (12109, 12455)\n",
      "Band 9, shape (12109, 12455)\n",
      "Band 10, shape (12109, 12455)\n"
     ]
    }
   ],
   "source": [
    "for i, x in enumerate(band_rasters_aligned):\n",
    "    print(f\"Band {i}, shape {x.shape}\")"
   ]
  },
  {
   "cell_type": "code",
   "execution_count": 86,
   "id": "152d0f9a-edbc-4bf6-b709-40d3f9a7d794",
   "metadata": {},
   "outputs": [
    {
     "ename": "AttributeError",
     "evalue": "'NoneType' object has no attribute 'WriteArray'",
     "output_type": "error",
     "traceback": [
      "\u001b[1;31m---------------------------------------------------------------------------\u001b[0m",
      "\u001b[1;31mAttributeError\u001b[0m                            Traceback (most recent call last)",
      "Cell \u001b[1;32mIn[86], line 17\u001b[0m\n\u001b[0;32m     15\u001b[0m \u001b[38;5;28;01mfor\u001b[39;00m i, band \u001b[38;5;129;01min\u001b[39;00m \u001b[38;5;28menumerate\u001b[39m(band_rasters_aligned):\n\u001b[0;32m     16\u001b[0m     band_data \u001b[38;5;241m=\u001b[39m band\n\u001b[1;32m---> 17\u001b[0m     \u001b[43moutput_ds\u001b[49m\u001b[38;5;241;43m.\u001b[39;49m\u001b[43mGetRasterBand\u001b[49m\u001b[43m(\u001b[49m\u001b[43mi\u001b[49m\u001b[43m)\u001b[49m\u001b[38;5;241;43m.\u001b[39;49m\u001b[43mWriteArray\u001b[49m(band_data)\n\u001b[0;32m     19\u001b[0m \u001b[38;5;66;03m# Chiude i dataset\u001b[39;00m\n\u001b[0;32m     20\u001b[0m input_ds \u001b[38;5;241m=\u001b[39m \u001b[38;5;28;01mNone\u001b[39;00m\n",
      "\u001b[1;31mAttributeError\u001b[0m: 'NoneType' object has no attribute 'WriteArray'"
     ]
    }
   ],
   "source": [
    "input_ds = gdal.Open(tif_files[0])\n",
    "\n",
    "width = input_ds.RasterXSize\n",
    "height = input_ds.RasterYSize\n",
    "num_bands = len(band_rasters_aligned)\n",
    "data_type = input_ds.GetRasterBand(1).DataType\n",
    "\n",
    "output_tif = r'C:\\Users\\giova\\OneDrive\\Desktop\\prova new dataset\\merged\\3 Zeuli 220623 ORTHO_MULTI_11.tif'\n",
    "driver = gdal.GetDriverByName('GTiff')\n",
    "output_ds = driver.Create(output_tif, width, height, num_bands, data_type)\n",
    "\n",
    "output_ds.SetGeoTransform(input_ds.GetGeoTransform())\n",
    "output_ds.SetProjection(input_ds.GetProjection())\n",
    "\n",
    "for i, band in enumerate(band_rasters_aligned):\n",
    "    band_data = band\n",
    "    output_ds.GetRasterBand(i).WriteArray(band_data)\n",
    "\n",
    "# Chiude i dataset\n",
    "input_ds = None\n",
    "output_ds = None\n",
    "\n",
    "print(\"Processo completato. Il nuovo raster è stato creato:\", output_tif)"
   ]
  },
  {
   "cell_type": "code",
   "execution_count": 56,
   "id": "12b0e7ce-2695-44f6-83de-ecc07501034b",
   "metadata": {},
   "outputs": [
    {
     "ename": "AttributeError",
     "evalue": "'numpy.ndarray' object has no attribute 'profile'",
     "output_type": "error",
     "traceback": [
      "\u001b[1;31m---------------------------------------------------------------------------\u001b[0m",
      "\u001b[1;31mAttributeError\u001b[0m                            Traceback (most recent call last)",
      "Cell \u001b[1;32mIn[56], line 2\u001b[0m\n\u001b[0;32m      1\u001b[0m \u001b[38;5;66;03m# Unisce le bande allineate\u001b[39;00m\n\u001b[1;32m----> 2\u001b[0m merged_raster, out_transform \u001b[38;5;241m=\u001b[39m \u001b[43mmerge\u001b[49m\u001b[43m(\u001b[49m\u001b[43mband_rasters_aligned\u001b[49m\u001b[43m,\u001b[49m\u001b[43m \u001b[49m\u001b[43mresampling\u001b[49m\u001b[38;5;241;43m=\u001b[39;49m\u001b[43mResampling\u001b[49m\u001b[38;5;241;43m.\u001b[39;49m\u001b[43mnearest\u001b[49m\u001b[43m)\u001b[49m\n\u001b[0;32m      4\u001b[0m \u001b[38;5;66;03m# Crea il profilo per il nuovo tif\u001b[39;00m\n\u001b[0;32m      5\u001b[0m profile \u001b[38;5;241m=\u001b[39m src\u001b[38;5;241m.\u001b[39mprofile\n",
      "File \u001b[1;32m~\\anaconda3\\envs\\deep_learning_env\\lib\\site-packages\\rasterio\\merge.py:222\u001b[0m, in \u001b[0;36mmerge\u001b[1;34m(datasets, bounds, res, nodata, dtype, precision, indexes, output_count, resampling, method, target_aligned_pixels, dst_path, dst_kwds)\u001b[0m\n\u001b[0;32m    219\u001b[0m     dataset_opener \u001b[38;5;241m=\u001b[39m nullcontext\n\u001b[0;32m    221\u001b[0m \u001b[38;5;28;01mwith\u001b[39;00m dataset_opener(datasets[\u001b[38;5;241m0\u001b[39m]) \u001b[38;5;28;01mas\u001b[39;00m first:\n\u001b[1;32m--> 222\u001b[0m     first_profile \u001b[38;5;241m=\u001b[39m \u001b[43mfirst\u001b[49m\u001b[38;5;241;43m.\u001b[39;49m\u001b[43mprofile\u001b[49m\n\u001b[0;32m    223\u001b[0m     first_res \u001b[38;5;241m=\u001b[39m first\u001b[38;5;241m.\u001b[39mres\n\u001b[0;32m    224\u001b[0m     nodataval \u001b[38;5;241m=\u001b[39m first\u001b[38;5;241m.\u001b[39mnodatavals[\u001b[38;5;241m0\u001b[39m]\n",
      "\u001b[1;31mAttributeError\u001b[0m: 'numpy.ndarray' object has no attribute 'profile'"
     ]
    }
   ],
   "source": [
    "# Unisce le bande allineate\n",
    "merged_raster, out_transform = merge(band_rasters_aligned, resampling=Resampling.nearest)\n",
    "\n",
    "# Crea il profilo per il nuovo tif\n",
    "profile = src.profile\n",
    "profile.update(count=len(band_rasters_aligned), transform=out_transform)\n",
    "\n",
    "# Salva il tif a 11 bande\n",
    "output_file = r'C:\\Users\\giova\\OneDrive\\Desktop\\prova new dataset\\merged\\3 Zeuli 220623 ORTHO_MULTI_11.tif'\n",
    "with rasterio.open(output_file, 'w', **profile) as dst:\n",
    "    dst.write(merged_raster)\n",
    "\n",
    "print(\"Operazione completata. Il tif a 11 bande è stato salvato in:\", output_file)"
   ]
  },
  {
   "cell_type": "code",
   "execution_count": null,
   "id": "97ce954e-2352-44f7-bdab-bf7b07b8d608",
   "metadata": {},
   "outputs": [],
   "source": []
  }
 ],
 "metadata": {
  "kernelspec": {
   "display_name": "Python 3 (ipykernel)",
   "language": "python",
   "name": "python3"
  },
  "language_info": {
   "codemirror_mode": {
    "name": "ipython",
    "version": 3
   },
   "file_extension": ".py",
   "mimetype": "text/x-python",
   "name": "python",
   "nbconvert_exporter": "python",
   "pygments_lexer": "ipython3",
   "version": "3.8.18"
  }
 },
 "nbformat": 4,
 "nbformat_minor": 5
}

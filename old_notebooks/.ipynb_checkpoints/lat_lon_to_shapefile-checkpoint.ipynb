{
 "cells": [
  {
   "cell_type": "code",
   "execution_count": 1,
   "id": "82befdd9-28fe-43b2-8058-feb46aff1191",
   "metadata": {},
   "outputs": [],
   "source": [
    "import geopandas as gpd\n",
    "import pyproj\n",
    "from shapely.geometry import Point\n",
    "import pandas as pd"
   ]
  },
  {
   "cell_type": "code",
   "execution_count": 8,
   "id": "af6e1971-da20-41bd-994c-47021ba003dd",
   "metadata": {},
   "outputs": [],
   "source": [
    "#Apre foglio excel in un dataframe\n",
    "df = pd.read_excel(r\"C:\\Users\\giova\\OneDrive\\Desktop\\ZEULI\\UNICO_ZEULI_VITE.xlsx\", header=1)\n",
    "#print(df)\n",
    "df_day = df[df[\"DATA\"] == \"2022-06-23\"]\n",
    "#print(df[[\"LONGITUDINE\", \"LATITUDINE\"]])\n",
    "#print(df_day[[\"LONGITUDINE\", \"LATITUDINE\"]])\n",
    "punti = []\n",
    "for lon, lat in zip(df_day['LONGITUDINE'], df_day['LATITUDINE']):\n",
    "    punti.append(Point(lon, lat))\n",
    "\n",
    "gdf = gpd.GeoDataFrame(geometry=punti, crs='EPSG:4326')\n",
    "\n",
    "output_file = r\"C:\\Users\\giova\\OneDrive\\Desktop\\ZEULI\\SHP_VITE_220623\\punti_zeuli_vite_220623.shp\"\n",
    "gdf.to_file(output_file)"
   ]
  },
  {
   "cell_type": "code",
   "execution_count": null,
   "id": "cdf11d54-b192-4142-9a67-2100e4cd08b7",
   "metadata": {},
   "outputs": [],
   "source": []
  }
 ],
 "metadata": {
  "kernelspec": {
   "display_name": "Python 3 (ipykernel)",
   "language": "python",
   "name": "python3"
  },
  "language_info": {
   "codemirror_mode": {
    "name": "ipython",
    "version": 3
   },
   "file_extension": ".py",
   "mimetype": "text/x-python",
   "name": "python",
   "nbconvert_exporter": "python",
   "pygments_lexer": "ipython3",
   "version": "3.8.18"
  }
 },
 "nbformat": 4,
 "nbformat_minor": 5
}

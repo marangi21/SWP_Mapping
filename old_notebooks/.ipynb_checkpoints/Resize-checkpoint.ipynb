{
 "cells": [
  {
   "cell_type": "code",
   "execution_count": 1,
   "id": "7578c9dd-d7ad-4f57-906a-c43de1341bca",
   "metadata": {},
   "outputs": [],
   "source": [
    "import os\n",
    "import pandas as pd\n",
    "import rasterio\n",
    "from rasterio.transform import from_origin\n",
    "from rasterio.enums import Resampling\n",
    "import geoio"
   ]
  },
  {
   "cell_type": "code",
   "execution_count": 137,
   "id": "a37ec696-f2a3-48ef-8ce5-7791cafa9789",
   "metadata": {},
   "outputs": [],
   "source": [
    "input_folder = \"C:/Users/giova/OneDrive/Desktop/esportati - Copia/esportati/4 Tormaresca 220624\"\n",
    "output_folder = \"C:/Users/giova/OneDrive/Desktop/esportati - Copia/esportati/4 Tormaresca 220624/Resized\"\n",
    "\n",
    "file_names = [\n",
    "    'ORTHO_Blue.tif',\n",
    "    'ORTHO_Blue-444.tif',\n",
    "    'ORTHO_Green.tif',\n",
    "    'ORTHO_Green-531.tif',\n",
    "    'ORTHO_NIR.tif',\n",
    "    'ORTHO_Red edge.tif',\n",
    "    'ORTHO_Red edge-705.tif',\n",
    "    'ORTHO_Red edge-740.tif',\n",
    "    'ORTHO_Red.tif',\n",
    "    'ORTHO_Red-650.tif'\n",
    "]\n",
    "\n",
    "output_image_size = (9040, 7302)"
   ]
  },
  {
   "cell_type": "code",
   "execution_count": 138,
   "id": "f4ef8cfc-69dc-499e-bdff-db7387e6db24",
   "metadata": {},
   "outputs": [],
   "source": [
    "for file_name in file_names:\n",
    "    file_path = os.path.join(input_folder, file_name)\n",
    "    output_file_path = os.path.join(output_folder, file_name)\n",
    "    with rasterio.open(file_path) as src:\n",
    "        data = src.read(1, out_shape = (output_image_size[0], output_image_size[1]), resampling=Resampling.bilinear)\n",
    "\n",
    "        transform = from_origin(src.bounds.left, src.bounds.top, src.transform.a, src.transform.e)\n",
    "        with rasterio.open(output_file_path, 'w', driver='GTiff', height= output_image_size[0],\n",
    "                           width=output_image_size[1], count=1, dtype=data.dtype, crs=src.crs,\n",
    "                           transform=transform) as dst:\n",
    "            dst.write(data,1)"
   ]
  },
  {
   "cell_type": "code",
   "execution_count": null,
   "id": "66ff2f8a-b88d-4181-a64c-8e7f25426344",
   "metadata": {},
   "outputs": [],
   "source": []
  }
 ],
 "metadata": {
  "kernelspec": {
   "display_name": "Python 3 (ipykernel)",
   "language": "python",
   "name": "python3"
  },
  "language_info": {
   "codemirror_mode": {
    "name": "ipython",
    "version": 3
   },
   "file_extension": ".py",
   "mimetype": "text/x-python",
   "name": "python",
   "nbconvert_exporter": "python",
   "pygments_lexer": "ipython3",
   "version": "3.8.18"
  }
 },
 "nbformat": 4,
 "nbformat_minor": 5
}

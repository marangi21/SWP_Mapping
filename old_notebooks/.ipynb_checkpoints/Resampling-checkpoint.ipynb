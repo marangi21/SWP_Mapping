{
 "cells": [
  {
   "cell_type": "code",
   "execution_count": 2,
   "id": "352f1dfe-eca3-4e1f-b72e-520efe5538a1",
   "metadata": {},
   "outputs": [],
   "source": [
    "import os\n",
    "import rasterio\n",
    "from rasterio.transform import from_origin\n",
    "from osgeo import ogr, gdal\n",
    "from osgeo import gdalconst"
   ]
  },
  {
   "cell_type": "code",
   "execution_count": 3,
   "id": "645bc345-5305-4428-9eac-3e825c8abca6",
   "metadata": {},
   "outputs": [
    {
     "ename": "NotADirectoryError",
     "evalue": "[WinError 267] Nome di directory non valido: 'C:/Users/giova/OneDrive/Desktop/esportati - Copia/esportati/5 Zeuli 220802\\\\DEM_Blue-444.tif'",
     "output_type": "error",
     "traceback": [
      "\u001b[1;31m---------------------------------------------------------------------------\u001b[0m",
      "\u001b[1;31mNotADirectoryError\u001b[0m                        Traceback (most recent call last)",
      "Cell \u001b[1;32mIn[3], line 11\u001b[0m\n\u001b[0;32m      8\u001b[0m \u001b[38;5;28;01mif\u001b[39;00m \u001b[38;5;129;01mnot\u001b[39;00m os\u001b[38;5;241m.\u001b[39mpath\u001b[38;5;241m.\u001b[39mexists(output_path):\n\u001b[0;32m      9\u001b[0m     os\u001b[38;5;241m.\u001b[39mmakedirs(output_path)\n\u001b[1;32m---> 11\u001b[0m \u001b[38;5;28;01mfor\u001b[39;00m img \u001b[38;5;129;01min\u001b[39;00m \u001b[43mos\u001b[49m\u001b[38;5;241;43m.\u001b[39;49m\u001b[43mlistdir\u001b[49m\u001b[43m(\u001b[49m\u001b[43mflight_path\u001b[49m\u001b[43m)\u001b[49m:\n\u001b[0;32m     12\u001b[0m     img_path \u001b[38;5;241m=\u001b[39m os\u001b[38;5;241m.\u001b[39mpath\u001b[38;5;241m.\u001b[39mjoin(flight_path, img)\n\u001b[0;32m     14\u001b[0m     tif_file \u001b[38;5;241m=\u001b[39m gdal\u001b[38;5;241m.\u001b[39mWarp(output_path \u001b[38;5;241m+\u001b[39m \u001b[38;5;124m\"\u001b[39m\u001b[38;5;124m \u001b[39m\u001b[38;5;124m\"\u001b[39m \u001b[38;5;241m+\u001b[39m img,\n\u001b[0;32m     15\u001b[0m                 img_path,\n\u001b[0;32m     16\u001b[0m                 \u001b[38;5;28mformat\u001b[39m \u001b[38;5;241m=\u001b[39m \u001b[38;5;124m'\u001b[39m\u001b[38;5;124mgTiff\u001b[39m\u001b[38;5;124m'\u001b[39m,\n\u001b[0;32m     17\u001b[0m                 xRes \u001b[38;5;241m=\u001b[39m \u001b[38;5;241m0.08\u001b[39m,\n\u001b[0;32m     18\u001b[0m                 yRes \u001b[38;5;241m=\u001b[39m \u001b[38;5;241m0.08\u001b[39m,\n\u001b[0;32m     19\u001b[0m                 resampleAlg \u001b[38;5;241m=\u001b[39m gdal\u001b[38;5;241m.\u001b[39mGRA_Bilinear)\n",
      "\u001b[1;31mNotADirectoryError\u001b[0m: [WinError 267] Nome di directory non valido: 'C:/Users/giova/OneDrive/Desktop/esportati - Copia/esportati/5 Zeuli 220802\\\\DEM_Blue-444.tif'"
     ]
    }
   ],
   "source": [
    "input_folder = \"C:/Users/giova/OneDrive/Desktop/esportati - Copia/esportati\"\n",
    "output_folder = \"C:/Users/giova/OneDrive/Desktop/Resampled\"\n",
    "\n",
    "for directory in os.listdir(input_folder):\n",
    "    flight_path = os.path.join(input_folder, directory)\n",
    "    output_path = os.path.join(output_folder, directory)\n",
    "    \n",
    "    if not os.path.exists(output_path):\n",
    "        os.makedirs(output_path)\n",
    "        \n",
    "    for img in os.listdir(flight_path):\n",
    "        img_path = os.path.join(flight_path, img)\n",
    "\n",
    "        tif_file = gdal.Warp(output_path + \" \" + img,\n",
    "                    img_path,\n",
    "                    format = 'gTiff',\n",
    "                    xRes = 0.08,\n",
    "                    yRes = 0.08,\n",
    "                    resampleAlg = gdal.GRA_Bilinear)\n",
    "        "
   ]
  },
  {
   "cell_type": "code",
   "execution_count": 3,
   "id": "aad906b5-8b74-4731-a76e-f333b0bcd085",
   "metadata": {},
   "outputs": [
    {
     "ename": "NotADirectoryError",
     "evalue": "[WinError 267] Nome di directory non valido: 'C:/Users/giova/OneDrive/Desktop/esportati - Copia/esportati/5 Zeuli 220802\\\\DEM_Blue-444.tif'",
     "output_type": "error",
     "traceback": [
      "\u001b[1;31m---------------------------------------------------------------------------\u001b[0m",
      "\u001b[1;31mNotADirectoryError\u001b[0m                        Traceback (most recent call last)",
      "Cell \u001b[1;32mIn[3], line 11\u001b[0m\n\u001b[0;32m      8\u001b[0m \u001b[38;5;28;01mif\u001b[39;00m \u001b[38;5;129;01mnot\u001b[39;00m os\u001b[38;5;241m.\u001b[39mpath\u001b[38;5;241m.\u001b[39mexists(output_path):\n\u001b[0;32m      9\u001b[0m     os\u001b[38;5;241m.\u001b[39mmakedirs(output_path)\n\u001b[1;32m---> 11\u001b[0m \u001b[38;5;28;01mfor\u001b[39;00m img \u001b[38;5;129;01min\u001b[39;00m \u001b[43mos\u001b[49m\u001b[38;5;241;43m.\u001b[39;49m\u001b[43mlistdir\u001b[49m\u001b[43m(\u001b[49m\u001b[43mflight_path\u001b[49m\u001b[43m)\u001b[49m:\n\u001b[0;32m     12\u001b[0m     img_path \u001b[38;5;241m=\u001b[39m os\u001b[38;5;241m.\u001b[39mpath\u001b[38;5;241m.\u001b[39mjoin(flight_path, img)\n\u001b[0;32m     14\u001b[0m     tif_file \u001b[38;5;241m=\u001b[39m gdal\u001b[38;5;241m.\u001b[39mWarp(output_path \u001b[38;5;241m+\u001b[39m \u001b[38;5;124m\"\u001b[39m\u001b[38;5;124m \u001b[39m\u001b[38;5;124m\"\u001b[39m \u001b[38;5;241m+\u001b[39m img,\n\u001b[0;32m     15\u001b[0m                 img_path,\n\u001b[0;32m     16\u001b[0m                 \u001b[38;5;28mformat\u001b[39m \u001b[38;5;241m=\u001b[39m \u001b[38;5;124m'\u001b[39m\u001b[38;5;124mgTiff\u001b[39m\u001b[38;5;124m'\u001b[39m,\n\u001b[0;32m     17\u001b[0m                 xRes \u001b[38;5;241m=\u001b[39m \u001b[38;5;241m0.08\u001b[39m,\n\u001b[0;32m     18\u001b[0m                 yRes \u001b[38;5;241m=\u001b[39m \u001b[38;5;241m0.08\u001b[39m,\n\u001b[0;32m     19\u001b[0m                 resampleAlg \u001b[38;5;241m=\u001b[39m gdal\u001b[38;5;241m.\u001b[39mGRA_Bilinear)\n",
      "\u001b[1;31mNotADirectoryError\u001b[0m: [WinError 267] Nome di directory non valido: 'C:/Users/giova/OneDrive/Desktop/esportati - Copia/esportati/5 Zeuli 220802\\\\DEM_Blue-444.tif'"
     ]
    }
   ],
   "source": [
    "input_folder = \"C:/Users/giova/OneDrive/Desktop/esportati - Copia/esportati/5 Zeuli 220802\"\n",
    "output_folder = \"C:/Users/giova/OneDrive/Desktop/Resampled/5 Zeuli 220802\"\n",
    "    \n",
    "if not os.path.exists(output_folder):\n",
    "    os.makedirs(output_folder)\n",
    "    \n",
    "for img in os.listdir(input_folder):\n",
    "    img_path = os.path.join(input_folder, img)\n",
    "\n",
    "    tif_file = gdal.Warp(output_folder + \" \" + img,\n",
    "                img_path,\n",
    "                format = 'gTiff',\n",
    "                xRes = 0.08,\n",
    "                yRes = 0.08,\n",
    "                resampleAlg = gdal.GRA_Bilinear)\n",
    "    "
   ]
  },
  {
   "cell_type": "code",
   "execution_count": 3,
   "id": "94d8067b-65fd-4bdd-a0fb-e82c94b7184e",
   "metadata": {},
   "outputs": [],
   "source": [
    "'''\n",
    "img_path = \"C:/Users/giova/OneDrive/Desktop/esportati - Copia/esportati/2 Tormaresca 220526/ORTHO_NIR.tif\"\n",
    "output_path = \"C:/Users/giova/OneDrive/Desktop/prova_upsample_gdal\"\n",
    "tif_file = gdal.Warp(output_path,\n",
    "                    img_path,\n",
    "                    format = 'gTiff',\n",
    "                    xRes = 0.08,\n",
    "                    yRes = 0.08,\n",
    "                    resampleAlg = gdal.GRA_Bilinear)\n",
    "\n",
    "\n",
    "gt = tif_file.GetGeoTransform()\n",
    "pixelSizeX = gt[1]\n",
    "pixelSizeY = gt[5]\n",
    "print(gt)\n",
    "print(pixelSizeX)\n",
    "print(pixelSizeY)\n",
    "'''"
   ]
  }
 ],
 "metadata": {
  "kernelspec": {
   "display_name": "Python 3 (ipykernel)",
   "language": "python",
   "name": "python3"
  },
  "language_info": {
   "codemirror_mode": {
    "name": "ipython",
    "version": 3
   },
   "file_extension": ".py",
   "mimetype": "text/x-python",
   "name": "python",
   "nbconvert_exporter": "python",
   "pygments_lexer": "ipython3",
   "version": "3.8.18"
  }
 },
 "nbformat": 4,
 "nbformat_minor": 5
}

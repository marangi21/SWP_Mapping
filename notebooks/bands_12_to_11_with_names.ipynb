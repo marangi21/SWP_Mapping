{
 "cells": [
  {
   "cell_type": "code",
   "execution_count": 1,
   "metadata": {},
   "outputs": [],
   "source": [
    "import os\n",
    "import rasterio"
   ]
  },
  {
   "cell_type": "code",
   "execution_count": 44,
   "metadata": {},
   "outputs": [],
   "source": [
    "folder = r'C:\\Users\\giova\\OneDrive\\Desktop\\VS Code folders\\SWP-regr\\data'\n",
    "band_names=['blue-444',\n",
    "            'blue',\n",
    "            'green-531',\n",
    "            'green',\n",
    "            'nir',\n",
    "            'red-650',\n",
    "            'rededge-705',\n",
    "            'rededge-740',\n",
    "            'rededge',\n",
    "            'red',\n",
    "            'temp']"
   ]
  },
  {
   "cell_type": "code",
   "execution_count": 51,
   "metadata": {},
   "outputs": [],
   "source": [
    "for root, dirs, files in os.walk(folder):\n",
    "\n",
    "  for filename in files:\n",
    "    \n",
    "    if filename.endswith('.tif'):\n",
    "\n",
    "      with rasterio.open(os.path.join(root, filename)) as src:\n",
    "        meta = src.meta\n",
    "        bands = src.read()\n",
    "        bands = bands[0:11, :, :]\n",
    "        meta.update(count=11)\n",
    "\n",
    "        output_dir = os.path.join(os.path.dirname(root), \"11_band\")\n",
    "        if not os.path.exists(output_dir):\n",
    "          os.makedirs(output_dir)\n",
    "        new_filename = \"11_\" + filename\n",
    "        with rasterio.open(os.path.join(output_dir, new_filename), 'w', **meta) as dst:\n",
    "            for i, band in enumerate(bands):\n",
    "              dst.write(band, i+1)\n",
    "              dst.set_band_description(i+1, band_names[i])\n",
    "            dst.close()\n",
    "\n",
    "        src.close()"
   ]
  },
  {
   "cell_type": "code",
   "execution_count": 54,
   "metadata": {},
   "outputs": [
    {
     "name": "stdout",
     "output_type": "stream",
     "text": [
      "{'driver': 'GTiff', 'dtype': 'float32', 'nodata': None, 'width': 224, 'height': 224, 'count': 11, 'crs': CRS.from_epsg(3065), 'transform': Affine(0.0800000000000015, 0.0, 600438.3521,\n",
      "       0.0, 0.07999999999997225, 4566127.2431)}\n",
      "(11, 224, 224)\n"
     ]
    }
   ],
   "source": [
    "with rasterio.open(r'C:\\Users\\giova\\OneDrive\\Desktop\\VS Code folders\\SWP-regr\\data\\3 Zeuli 220623\\11_band\\11_3 Zeuli 220623 Albero 31.tif') as src:\n",
    "    print(src.meta)\n",
    "    bands = src.read()\n",
    "    print(bands.shape)\n",
    "    "
   ]
  },
  {
   "cell_type": "code",
   "execution_count": null,
   "metadata": {},
   "outputs": [],
   "source": []
  }
 ],
 "metadata": {
  "kernelspec": {
   "display_name": "env_prova",
   "language": "python",
   "name": "python3"
  },
  "language_info": {
   "codemirror_mode": {
    "name": "ipython",
    "version": 3
   },
   "file_extension": ".py",
   "mimetype": "text/x-python",
   "name": "python",
   "nbconvert_exporter": "python",
   "pygments_lexer": "ipython3",
   "version": "3.12.0"
  }
 },
 "nbformat": 4,
 "nbformat_minor": 2
}
